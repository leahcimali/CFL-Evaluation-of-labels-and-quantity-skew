{
 "cells": [
  {
   "cell_type": "code",
   "execution_count": 3,
   "metadata": {},
   "outputs": [],
   "source": [
    "import pandas as pd\n",
    "\n",
    "df = pd.read_csv('Archive/summarized_results.csv')\n",
    "\n",
    "# Sort the dataframe\n",
    "\n",
    "df_sorted = df.drop(columns=['nn_model', 'number_of_clients'])\n",
    "# Sort the dataframe by skew, dataset, and heterogeneity_class\n",
    "\n",
    "# Define the order and bold the 'cornflqs' exp_type\n",
    "exp_type_order = ['fedavg', 'fedprox', 'cfl', 'hcfl', 'fedgroup', 'ifca', 'srfca', 'cornflqs', 'oracle-centralized']\n",
    "df_sorted['exp_type'] = pd.Categorical(df_sorted['exp_type'], categories=exp_type_order, ordered=True)\n",
    "# Add a newline before each occurrence of 'fedavg' in the 'exp_type' column\n",
    "df_sorted['exp_type'] = df_sorted['exp_type'].apply(lambda x: '\\n' + x if x == 'fedavg' else x)\n",
    "# Sort the dataframe by the defined order\n",
    "df_sorted = df_sorted.sort_values(['skew', 'dataset', 'heterogeneity_class','exp_type'])\n",
    "df_sorted.to_excel('results.xlsx', index=False)"
   ]
  },
  {
   "cell_type": "code",
   "execution_count": 4,
   "metadata": {},
   "outputs": [],
   "source": [
    "df=pd.read_csv('/home/mbenali/Documents/Project/CFL-Evaluation-of-labels-and-quantity-skew/granular_results/noqs.csv')\n",
    "# Define the order and bold the 'cornflqs' exp_type\n",
    "df_sorted = df\n",
    "exp_type_order = ['fedavg', 'fedprox', 'cfl', 'hcfl', 'fedgroup', 'ifca', 'srfca', 'cornflqs', 'oracle-centralized']\n",
    "df_sorted['exp_type'] = pd.Categorical(df_sorted['exp_type'], categories=exp_type_order, ordered=True)\n",
    "df_sorted['exp_type'] = df_sorted['exp_type'].apply(lambda x: '\\n' + x if x == 'fedavg' else x)\n",
    "df_sorted = df_sorted.sort_values(['skew', 'dataset', 'heterogeneity_class','exp_type'])\n",
    "df_sorted.to_excel('noqs.xlsx', index=False)"
   ]
  },
  {
   "cell_type": "code",
   "execution_count": 5,
   "metadata": {},
   "outputs": [],
   "source": [
    "df=pd.read_csv('/home/mbenali/Documents/Project/CFL-Evaluation-of-labels-and-quantity-skew/granular_results/qs1.csv')\n",
    "df_sorted = df\n",
    "exp_type_order = ['fedavg', 'fedprox', 'cfl', 'hcfl', 'fedgroup', 'ifca', 'srfca', 'cornflqs', 'oracle-centralized']\n",
    "df_sorted['exp_type'] = pd.Categorical(df_sorted['exp_type'], categories=exp_type_order, ordered=True)\n",
    "df_sorted['exp_type'] = df_sorted['exp_type'].apply(lambda x: '\\n' + x if x == 'fedavg' else x)\n",
    "df_sorted = df_sorted.sort_values(['skew', 'dataset', 'heterogeneity_class','exp_type'])\n",
    "df_sorted.to_excel('qs1.xlsx', index=False)\n"
   ]
  },
  {
   "cell_type": "code",
   "execution_count": 6,
   "metadata": {},
   "outputs": [],
   "source": [
    "df=pd.read_csv('/home/mbenali/Documents/Project/CFL-Evaluation-of-labels-and-quantity-skew/granular_results/qs2.csv')\n",
    "# Define the order and bold the 'cornflqs' exp_type\n",
    "exp_type_order = ['fedavg', 'fedprox', 'cfl', 'hcfl', 'fedgroup', 'ifca', 'srfca', 'cornflqs', 'oracle-centralized']\n",
    "df_sorted = df\n",
    "df_sorted['exp_type'] = pd.Categorical(df_sorted['exp_type'], categories=exp_type_order, ordered=True)\n",
    "df_sorted['exp_type'] = df_sorted['exp_type'].apply(lambda x: '\\n' + x if x == 'fedavg' else x)\n",
    "df_sorted = df_sorted.sort_values(['skew', 'dataset', 'heterogeneity_class','exp_type'])\n",
    "df_sorted.to_excel('qs2.xlsx', index=False)"
   ]
  }
 ],
 "metadata": {
  "kernelspec": {
   "display_name": "Python (my_env)",
   "language": "python",
   "name": "my_env"
  },
  "language_info": {
   "codemirror_mode": {
    "name": "ipython",
    "version": 3
   },
   "file_extension": ".py",
   "mimetype": "text/x-python",
   "name": "python",
   "nbconvert_exporter": "python",
   "pygments_lexer": "ipython3",
   "version": "3.9.21"
  }
 },
 "nbformat": 4,
 "nbformat_minor": 2
}
